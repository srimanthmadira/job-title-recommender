{
 "cells": [
  {
   "cell_type": "markdown",
   "id": "476e3496",
   "metadata": {},
   "source": [
    "## Capstone Project : Building a Comprehensive Job Recommendation System"
   ]
  },
  {
   "cell_type": "markdown",
   "id": "67669aca",
   "metadata": {},
   "source": [
    "## Srimanth Madira - Data Science (M.S) - U01885136"
   ]
  },
  {
   "cell_type": "markdown",
   "id": "a4a14437",
   "metadata": {},
   "source": [
    "## Import Statements"
   ]
  },
  {
   "cell_type": "code",
   "execution_count": 150,
   "id": "377a2baa",
   "metadata": {},
   "outputs": [],
   "source": [
    "import pandas as pd\n",
    "import numpy as np\n",
    "import re\n",
    "from collections import Counter\n",
    "import matplotlib.pyplot as plt\n",
    "import seaborn as sns"
   ]
  },
  {
   "cell_type": "markdown",
   "id": "6eea693e",
   "metadata": {},
   "source": [
    "## Data Load"
   ]
  },
  {
   "cell_type": "code",
   "execution_count": 151,
   "id": "2f10bcb6",
   "metadata": {},
   "outputs": [],
   "source": [
    "#Loading Data Using Pandas Library\n",
    "data = pd.read_csv(\"dice_com-job_us_sample.csv\")"
   ]
  },
  {
   "cell_type": "code",
   "execution_count": 152,
   "id": "03694915",
   "metadata": {},
   "outputs": [
    {
     "data": {
      "text/html": [
       "<div>\n",
       "<style scoped>\n",
       "    .dataframe tbody tr th:only-of-type {\n",
       "        vertical-align: middle;\n",
       "    }\n",
       "\n",
       "    .dataframe tbody tr th {\n",
       "        vertical-align: top;\n",
       "    }\n",
       "\n",
       "    .dataframe thead th {\n",
       "        text-align: right;\n",
       "    }\n",
       "</style>\n",
       "<table border=\"1\" class=\"dataframe\">\n",
       "  <thead>\n",
       "    <tr style=\"text-align: right;\">\n",
       "      <th></th>\n",
       "      <th>advertiserurl</th>\n",
       "      <th>company</th>\n",
       "      <th>employmenttype_jobstatus</th>\n",
       "      <th>jobdescription</th>\n",
       "      <th>jobid</th>\n",
       "      <th>joblocation_address</th>\n",
       "      <th>jobtitle</th>\n",
       "      <th>postdate</th>\n",
       "      <th>shift</th>\n",
       "      <th>site_name</th>\n",
       "      <th>skills</th>\n",
       "      <th>uniq_id</th>\n",
       "    </tr>\n",
       "  </thead>\n",
       "  <tbody>\n",
       "    <tr>\n",
       "      <th>0</th>\n",
       "      <td>https://www.dice.com/jobs/detail/AUTOMATION-TE...</td>\n",
       "      <td>Digital Intelligence Systems, LLC</td>\n",
       "      <td>C2H Corp-To-Corp, C2H Independent, C2H W2, 3 M...</td>\n",
       "      <td>Looking for Selenium engineers...must have sol...</td>\n",
       "      <td>Dice Id : 10110693</td>\n",
       "      <td>Atlanta, GA</td>\n",
       "      <td>AUTOMATION TEST ENGINEER</td>\n",
       "      <td>1 hour ago</td>\n",
       "      <td>Telecommuting not available|Travel not required</td>\n",
       "      <td>NaN</td>\n",
       "      <td>SEE BELOW</td>\n",
       "      <td>418ff92580b270ef4e7c14f0ddfc36b4</td>\n",
       "    </tr>\n",
       "    <tr>\n",
       "      <th>1</th>\n",
       "      <td>https://www.dice.com/jobs/detail/Information-S...</td>\n",
       "      <td>University of Chicago/IT Services</td>\n",
       "      <td>Full Time</td>\n",
       "      <td>The University of Chicago has a rapidly growin...</td>\n",
       "      <td>Dice Id : 10114469</td>\n",
       "      <td>Chicago, IL</td>\n",
       "      <td>Information Security Engineer</td>\n",
       "      <td>1 week ago</td>\n",
       "      <td>Telecommuting not available|Travel not required</td>\n",
       "      <td>NaN</td>\n",
       "      <td>linux/unix, network monitoring, incident respo...</td>\n",
       "      <td>8aec88cba08d53da65ab99cf20f6f9d9</td>\n",
       "    </tr>\n",
       "    <tr>\n",
       "      <th>2</th>\n",
       "      <td>https://www.dice.com/jobs/detail/Business-Solu...</td>\n",
       "      <td>Galaxy Systems, Inc.</td>\n",
       "      <td>Full Time</td>\n",
       "      <td>GalaxE.SolutionsEvery day, our solutions affec...</td>\n",
       "      <td>Dice Id : CXGALXYS</td>\n",
       "      <td>Schaumburg, IL</td>\n",
       "      <td>Business Solutions Architect</td>\n",
       "      <td>2 weeks ago</td>\n",
       "      <td>Telecommuting not available|Travel not required</td>\n",
       "      <td>NaN</td>\n",
       "      <td>Enterprise Solutions Architecture, business in...</td>\n",
       "      <td>46baa1f69ac07779274bcd90b85d9a72</td>\n",
       "    </tr>\n",
       "    <tr>\n",
       "      <th>3</th>\n",
       "      <td>https://www.dice.com/jobs/detail/Java-Develope...</td>\n",
       "      <td>TransTech LLC</td>\n",
       "      <td>Full Time</td>\n",
       "      <td>Java DeveloperFull-time/direct-hireBolingbrook...</td>\n",
       "      <td>Dice Id : 10113627</td>\n",
       "      <td>Bolingbrook, IL</td>\n",
       "      <td>Java Developer (mid level)- FT- GREAT culture,...</td>\n",
       "      <td>2 weeks ago</td>\n",
       "      <td>Telecommuting not available|Travel not required</td>\n",
       "      <td>NaN</td>\n",
       "      <td>Please see job description</td>\n",
       "      <td>3941b2f206ae0f900c4fba4ac0b18719</td>\n",
       "    </tr>\n",
       "    <tr>\n",
       "      <th>4</th>\n",
       "      <td>https://www.dice.com/jobs/detail/DevOps-Engine...</td>\n",
       "      <td>Matrix Resources</td>\n",
       "      <td>Full Time</td>\n",
       "      <td>Midtown based high tech firm has an immediate ...</td>\n",
       "      <td>Dice Id : matrixga</td>\n",
       "      <td>Atlanta, GA</td>\n",
       "      <td>DevOps Engineer</td>\n",
       "      <td>48 minutes ago</td>\n",
       "      <td>Telecommuting not available|Travel not required</td>\n",
       "      <td>NaN</td>\n",
       "      <td>Configuration Management, Developer, Linux, Ma...</td>\n",
       "      <td>45efa1f6bc65acc32bbbb953a1ed13b7</td>\n",
       "    </tr>\n",
       "  </tbody>\n",
       "</table>\n",
       "</div>"
      ],
      "text/plain": [
       "                                       advertiserurl  \\\n",
       "0  https://www.dice.com/jobs/detail/AUTOMATION-TE...   \n",
       "1  https://www.dice.com/jobs/detail/Information-S...   \n",
       "2  https://www.dice.com/jobs/detail/Business-Solu...   \n",
       "3  https://www.dice.com/jobs/detail/Java-Develope...   \n",
       "4  https://www.dice.com/jobs/detail/DevOps-Engine...   \n",
       "\n",
       "                             company  \\\n",
       "0  Digital Intelligence Systems, LLC   \n",
       "1  University of Chicago/IT Services   \n",
       "2               Galaxy Systems, Inc.   \n",
       "3                      TransTech LLC   \n",
       "4                   Matrix Resources   \n",
       "\n",
       "                            employmenttype_jobstatus  \\\n",
       "0  C2H Corp-To-Corp, C2H Independent, C2H W2, 3 M...   \n",
       "1                                          Full Time   \n",
       "2                                          Full Time   \n",
       "3                                          Full Time   \n",
       "4                                          Full Time   \n",
       "\n",
       "                                      jobdescription               jobid  \\\n",
       "0  Looking for Selenium engineers...must have sol...  Dice Id : 10110693   \n",
       "1  The University of Chicago has a rapidly growin...  Dice Id : 10114469   \n",
       "2  GalaxE.SolutionsEvery day, our solutions affec...  Dice Id : CXGALXYS   \n",
       "3  Java DeveloperFull-time/direct-hireBolingbrook...  Dice Id : 10113627   \n",
       "4  Midtown based high tech firm has an immediate ...  Dice Id : matrixga   \n",
       "\n",
       "  joblocation_address                                           jobtitle  \\\n",
       "0         Atlanta, GA                           AUTOMATION TEST ENGINEER   \n",
       "1         Chicago, IL                      Information Security Engineer   \n",
       "2      Schaumburg, IL                       Business Solutions Architect   \n",
       "3     Bolingbrook, IL  Java Developer (mid level)- FT- GREAT culture,...   \n",
       "4         Atlanta, GA                                    DevOps Engineer   \n",
       "\n",
       "         postdate                                            shift site_name  \\\n",
       "0      1 hour ago  Telecommuting not available|Travel not required       NaN   \n",
       "1      1 week ago  Telecommuting not available|Travel not required       NaN   \n",
       "2     2 weeks ago  Telecommuting not available|Travel not required       NaN   \n",
       "3     2 weeks ago  Telecommuting not available|Travel not required       NaN   \n",
       "4  48 minutes ago  Telecommuting not available|Travel not required       NaN   \n",
       "\n",
       "                                              skills  \\\n",
       "0                                          SEE BELOW   \n",
       "1  linux/unix, network monitoring, incident respo...   \n",
       "2  Enterprise Solutions Architecture, business in...   \n",
       "3                         Please see job description   \n",
       "4  Configuration Management, Developer, Linux, Ma...   \n",
       "\n",
       "                            uniq_id  \n",
       "0  418ff92580b270ef4e7c14f0ddfc36b4  \n",
       "1  8aec88cba08d53da65ab99cf20f6f9d9  \n",
       "2  46baa1f69ac07779274bcd90b85d9a72  \n",
       "3  3941b2f206ae0f900c4fba4ac0b18719  \n",
       "4  45efa1f6bc65acc32bbbb953a1ed13b7  "
      ]
     },
     "execution_count": 152,
     "metadata": {},
     "output_type": "execute_result"
    }
   ],
   "source": [
    "data.head()"
   ]
  },
  {
   "cell_type": "markdown",
   "id": "803300cd",
   "metadata": {},
   "source": [
    "## Data Cleaning, Standardization"
   ]
  },
  {
   "cell_type": "code",
   "execution_count": 153,
   "id": "659e0bec",
   "metadata": {},
   "outputs": [
    {
     "name": "stdout",
     "output_type": "stream",
     "text": [
      "<class 'pandas.core.frame.DataFrame'>\n",
      "RangeIndex: 22000 entries, 0 to 21999\n",
      "Data columns (total 12 columns):\n",
      " #   Column                    Non-Null Count  Dtype \n",
      "---  ------                    --------------  ----- \n",
      " 0   advertiserurl             22000 non-null  object\n",
      " 1   company                   21950 non-null  object\n",
      " 2   employmenttype_jobstatus  21770 non-null  object\n",
      " 3   jobdescription            22000 non-null  object\n",
      " 4   jobid                     22000 non-null  object\n",
      " 5   joblocation_address       21997 non-null  object\n",
      " 6   jobtitle                  22000 non-null  object\n",
      " 7   postdate                  22000 non-null  object\n",
      " 8   shift                     21643 non-null  object\n",
      " 9   site_name                 3490 non-null   object\n",
      " 10  skills                    21957 non-null  object\n",
      " 11  uniq_id                   22000 non-null  object\n",
      "dtypes: object(12)\n",
      "memory usage: 2.0+ MB\n"
     ]
    }
   ],
   "source": [
    "data_info = data.info()"
   ]
  },
  {
   "cell_type": "markdown",
   "id": "cfd85976",
   "metadata": {},
   "source": [
    "### Missing Values Count "
   ]
  },
  {
   "cell_type": "code",
   "execution_count": 154,
   "id": "53818e36",
   "metadata": {},
   "outputs": [
    {
     "data": {
      "text/plain": [
       "advertiserurl                   0\n",
       "company                        50\n",
       "employmenttype_jobstatus      230\n",
       "jobdescription                  0\n",
       "jobid                           0\n",
       "joblocation_address             3\n",
       "jobtitle                        0\n",
       "postdate                        0\n",
       "shift                         357\n",
       "site_name                   18510\n",
       "skills                         43\n",
       "uniq_id                         0\n",
       "dtype: int64"
      ]
     },
     "execution_count": 154,
     "metadata": {},
     "output_type": "execute_result"
    }
   ],
   "source": [
    "#Checking for the Missing Values\n",
    "data.isnull().sum()"
   ]
  },
  {
   "cell_type": "code",
   "execution_count": 155,
   "id": "da066412",
   "metadata": {},
   "outputs": [
    {
     "data": {
      "text/plain": [
       "Index(['company', 'employmenttype_jobstatus', 'jobdescription',\n",
       "       'joblocation_address', 'jobtitle', 'shift', 'skills'],\n",
       "      dtype='object')"
      ]
     },
     "execution_count": 155,
     "metadata": {},
     "output_type": "execute_result"
    }
   ],
   "source": [
    "#Dropping Unnecessary Columns\n",
    "data_cleaned = data.drop(columns=['advertiserurl', 'jobid', 'postdate', 'site_name', 'uniq_id'])\n",
    "\n",
    "data_cleaned.columns"
   ]
  },
  {
   "cell_type": "code",
   "execution_count": 156,
   "id": "615b83fa",
   "metadata": {},
   "outputs": [
    {
     "data": {
      "text/plain": [
       "company                      50\n",
       "employmenttype_jobstatus    230\n",
       "jobdescription                0\n",
       "joblocation_address           3\n",
       "jobtitle                      0\n",
       "shift                       357\n",
       "skills                       43\n",
       "dtype: int64"
      ]
     },
     "execution_count": 156,
     "metadata": {},
     "output_type": "execute_result"
    }
   ],
   "source": [
    "data_cleaned.isnull().sum()"
   ]
  },
  {
   "cell_type": "markdown",
   "id": "f43bb9bb",
   "metadata": {},
   "source": [
    "### Handling Missing Values"
   ]
  },
  {
   "cell_type": "code",
   "execution_count": 157,
   "id": "6ef5eff5",
   "metadata": {},
   "outputs": [],
   "source": [
    "columns_to_impute = ['company', 'employmenttype_jobstatus', 'joblocation_address', 'shift']\n",
    "\n",
    "for column in columns_to_impute:\n",
    "    mode_value = data_cleaned[column].mode()[0]  \n",
    "    data_cleaned[column].fillna(mode_value, inplace=True)  "
   ]
  },
  {
   "cell_type": "markdown",
   "id": "f7a41d99",
   "metadata": {},
   "source": [
    "### Skills Extraction & Cleaning"
   ]
  },
  {
   "cell_type": "code",
   "execution_count": 158,
   "id": "9429eae7",
   "metadata": {},
   "outputs": [
    {
     "name": "stdout",
     "output_type": "stream",
     "text": [
      "Unique skills found in the 'skills' column:\n",
      "21168\n"
     ]
    }
   ],
   "source": [
    "#Finding the number of unique Skills present over the entire dataset\n",
    "skills_data = data_cleaned['skills'].dropna()\n",
    "\n",
    "all_skills = skills_data.str.split(',|\\s+').apply(lambda x: [skill.strip() for skill in x if skill.strip() != ''])\n",
    "\n",
    "flattened_skills = [skill for sublist in all_skills for skill in sublist]\n",
    "\n",
    "unique_skills = list(set(flattened_skills))\n",
    "\n",
    "print(\"Unique skills found in the 'skills' column:\")\n",
    "print(len(unique_skills))"
   ]
  },
  {
   "cell_type": "code",
   "execution_count": 159,
   "id": "c19c19a0",
   "metadata": {},
   "outputs": [],
   "source": [
    "#Code to remove unnecessary braces and parenthesis from the rows of skills\n",
    "def clean_skill(skill):\n",
    "    cleaned_skill = re.sub(r'[\\(\\)\\[\\]\\{\\}]', '', skill) \n",
    "    cleaned_skill = re.sub(r'\\bAND\\b', '', cleaned_skill, flags=re.IGNORECASE) \n",
    "    return cleaned_skill.strip()  \n",
    "\n",
    "cleaned_skills = [clean_skill(skill) for skill in unique_skills]"
   ]
  },
  {
   "cell_type": "code",
   "execution_count": 160,
   "id": "5b2dc52d",
   "metadata": {},
   "outputs": [
    {
     "name": "stdout",
     "output_type": "stream",
     "text": [
      "Missing values in 'skills' after extraction:\n",
      "0\n"
     ]
    }
   ],
   "source": [
    "#Function to extract the skills from the job description, where skills are missing\n",
    "def extract_skills_from_description(description):\n",
    "    found_skills = [skill for skill in cleaned_skills if re.search(r'\\b' + re.escape(skill) + r'\\b', description, re.IGNORECASE)]\n",
    "    return ', '.join(found_skills) if found_skills else None\n",
    "\n",
    "for index, row in data_cleaned[data_cleaned['skills'].isnull()].iterrows():\n",
    "    extracted_skills = extract_skills_from_description(row['jobdescription'])\n",
    "    if extracted_skills:\n",
    "        data_cleaned.at[index, 'skills'] = extracted_skills  \n",
    "\n",
    "print(\"Missing values in 'skills' after extraction:\")\n",
    "print(data_cleaned['skills'].isnull().sum())"
   ]
  },
  {
   "cell_type": "code",
   "execution_count": 161,
   "id": "e785aec9",
   "metadata": {},
   "outputs": [
    {
     "data": {
      "text/html": [
       "<div>\n",
       "<style scoped>\n",
       "    .dataframe tbody tr th:only-of-type {\n",
       "        vertical-align: middle;\n",
       "    }\n",
       "\n",
       "    .dataframe tbody tr th {\n",
       "        vertical-align: top;\n",
       "    }\n",
       "\n",
       "    .dataframe thead th {\n",
       "        text-align: right;\n",
       "    }\n",
       "</style>\n",
       "<table border=\"1\" class=\"dataframe\">\n",
       "  <thead>\n",
       "    <tr style=\"text-align: right;\">\n",
       "      <th></th>\n",
       "      <th>company</th>\n",
       "      <th>employmenttype_jobstatus</th>\n",
       "      <th>jobdescription</th>\n",
       "      <th>joblocation_address</th>\n",
       "      <th>jobtitle</th>\n",
       "      <th>shift</th>\n",
       "      <th>skills</th>\n",
       "    </tr>\n",
       "  </thead>\n",
       "  <tbody>\n",
       "    <tr>\n",
       "      <th>0</th>\n",
       "      <td>Digital Intelligence Systems, LLC</td>\n",
       "      <td>C2H Corp-To-Corp, C2H Independent, C2H W2, 3 M...</td>\n",
       "      <td>Looking for Selenium engineers...must have sol...</td>\n",
       "      <td>Atlanta, GA</td>\n",
       "      <td>AUTOMATION TEST ENGINEER</td>\n",
       "      <td>Telecommuting not available|Travel not required</td>\n",
       "      <td>SEE BELOW</td>\n",
       "    </tr>\n",
       "    <tr>\n",
       "      <th>1</th>\n",
       "      <td>University of Chicago/IT Services</td>\n",
       "      <td>Full Time</td>\n",
       "      <td>The University of Chicago has a rapidly growin...</td>\n",
       "      <td>Chicago, IL</td>\n",
       "      <td>Information Security Engineer</td>\n",
       "      <td>Telecommuting not available|Travel not required</td>\n",
       "      <td>linux/unix, network monitoring, incident respo...</td>\n",
       "    </tr>\n",
       "    <tr>\n",
       "      <th>2</th>\n",
       "      <td>Galaxy Systems, Inc.</td>\n",
       "      <td>Full Time</td>\n",
       "      <td>GalaxE.SolutionsEvery day, our solutions affec...</td>\n",
       "      <td>Schaumburg, IL</td>\n",
       "      <td>Business Solutions Architect</td>\n",
       "      <td>Telecommuting not available|Travel not required</td>\n",
       "      <td>Enterprise Solutions Architecture, business in...</td>\n",
       "    </tr>\n",
       "    <tr>\n",
       "      <th>3</th>\n",
       "      <td>TransTech LLC</td>\n",
       "      <td>Full Time</td>\n",
       "      <td>Java DeveloperFull-time/direct-hireBolingbrook...</td>\n",
       "      <td>Bolingbrook, IL</td>\n",
       "      <td>Java Developer (mid level)- FT- GREAT culture,...</td>\n",
       "      <td>Telecommuting not available|Travel not required</td>\n",
       "      <td>Please see job description</td>\n",
       "    </tr>\n",
       "    <tr>\n",
       "      <th>4</th>\n",
       "      <td>Matrix Resources</td>\n",
       "      <td>Full Time</td>\n",
       "      <td>Midtown based high tech firm has an immediate ...</td>\n",
       "      <td>Atlanta, GA</td>\n",
       "      <td>DevOps Engineer</td>\n",
       "      <td>Telecommuting not available|Travel not required</td>\n",
       "      <td>Configuration Management, Developer, Linux, Ma...</td>\n",
       "    </tr>\n",
       "  </tbody>\n",
       "</table>\n",
       "</div>"
      ],
      "text/plain": [
       "                             company  \\\n",
       "0  Digital Intelligence Systems, LLC   \n",
       "1  University of Chicago/IT Services   \n",
       "2               Galaxy Systems, Inc.   \n",
       "3                      TransTech LLC   \n",
       "4                   Matrix Resources   \n",
       "\n",
       "                            employmenttype_jobstatus  \\\n",
       "0  C2H Corp-To-Corp, C2H Independent, C2H W2, 3 M...   \n",
       "1                                          Full Time   \n",
       "2                                          Full Time   \n",
       "3                                          Full Time   \n",
       "4                                          Full Time   \n",
       "\n",
       "                                      jobdescription joblocation_address  \\\n",
       "0  Looking for Selenium engineers...must have sol...         Atlanta, GA   \n",
       "1  The University of Chicago has a rapidly growin...         Chicago, IL   \n",
       "2  GalaxE.SolutionsEvery day, our solutions affec...      Schaumburg, IL   \n",
       "3  Java DeveloperFull-time/direct-hireBolingbrook...     Bolingbrook, IL   \n",
       "4  Midtown based high tech firm has an immediate ...         Atlanta, GA   \n",
       "\n",
       "                                            jobtitle  \\\n",
       "0                           AUTOMATION TEST ENGINEER   \n",
       "1                      Information Security Engineer   \n",
       "2                       Business Solutions Architect   \n",
       "3  Java Developer (mid level)- FT- GREAT culture,...   \n",
       "4                                    DevOps Engineer   \n",
       "\n",
       "                                             shift  \\\n",
       "0  Telecommuting not available|Travel not required   \n",
       "1  Telecommuting not available|Travel not required   \n",
       "2  Telecommuting not available|Travel not required   \n",
       "3  Telecommuting not available|Travel not required   \n",
       "4  Telecommuting not available|Travel not required   \n",
       "\n",
       "                                              skills  \n",
       "0                                          SEE BELOW  \n",
       "1  linux/unix, network monitoring, incident respo...  \n",
       "2  Enterprise Solutions Architecture, business in...  \n",
       "3                         Please see job description  \n",
       "4  Configuration Management, Developer, Linux, Ma...  "
      ]
     },
     "execution_count": 161,
     "metadata": {},
     "output_type": "execute_result"
    }
   ],
   "source": [
    "data_cleaned[data_cleaned['skills'].isnull() == False].head()"
   ]
  },
  {
   "cell_type": "code",
   "execution_count": 162,
   "id": "952d0c48",
   "metadata": {},
   "outputs": [],
   "source": [
    "#Function to extract the skills from the description where ever skills are mentioned as see description below\n",
    "\n",
    "description_rows = data_cleaned['skills'].str.contains(r'\\b(?:description|below|null)\\b', case=False, na=False)\n",
    "data_cleaned.loc[description_rows, 'skills'] = ''\n",
    "\n",
    "def extract_unique_skills(description):\n",
    "    found_skills = [skill for skill in cleaned_skills if re.search(r'\\b' + re.escape(skill) + r'\\b', description, re.IGNORECASE)]\n",
    "    return ', '.join(found_skills) if found_skills else ''  \n",
    "\n",
    "for index, row in data_cleaned[description_rows].iterrows():\n",
    "    extracted_skills = extract_unique_skills(row['jobdescription'])\n",
    "    data_cleaned.at[index, 'skills'] = extracted_skills "
   ]
  },
  {
   "cell_type": "code",
   "execution_count": 163,
   "id": "aad7d332",
   "metadata": {},
   "outputs": [
    {
     "data": {
      "text/html": [
       "<div>\n",
       "<style scoped>\n",
       "    .dataframe tbody tr th:only-of-type {\n",
       "        vertical-align: middle;\n",
       "    }\n",
       "\n",
       "    .dataframe tbody tr th {\n",
       "        vertical-align: top;\n",
       "    }\n",
       "\n",
       "    .dataframe thead th {\n",
       "        text-align: right;\n",
       "    }\n",
       "</style>\n",
       "<table border=\"1\" class=\"dataframe\">\n",
       "  <thead>\n",
       "    <tr style=\"text-align: right;\">\n",
       "      <th></th>\n",
       "      <th>jobdescription</th>\n",
       "      <th>skills</th>\n",
       "    </tr>\n",
       "  </thead>\n",
       "  <tbody>\n",
       "    <tr>\n",
       "      <th>0</th>\n",
       "      <td>Looking for Selenium engineers...must have sol...</td>\n",
       "      <td>Hire, ON, SAP, WINDOWS, Groovy, must, SERVER, ...</td>\n",
       "    </tr>\n",
       "    <tr>\n",
       "      <th>1</th>\n",
       "      <td>The University of Chicago has a rapidly growin...</td>\n",
       "      <td>linux/unix, network monitoring, incident respo...</td>\n",
       "    </tr>\n",
       "    <tr>\n",
       "      <th>2</th>\n",
       "      <td>GalaxE.SolutionsEvery day, our solutions affec...</td>\n",
       "      <td>Enterprise Solutions Architecture, business in...</td>\n",
       "    </tr>\n",
       "    <tr>\n",
       "      <th>3</th>\n",
       "      <td>Java DeveloperFull-time/direct-hireBolingbrook...</td>\n",
       "      <td>ON, must, Benefits, SERVER, BENEFITS, Contact,...</td>\n",
       "    </tr>\n",
       "    <tr>\n",
       "      <th>4</th>\n",
       "      <td>Midtown based high tech firm has an immediate ...</td>\n",
       "      <td>Configuration Management, Developer, Linux, Ma...</td>\n",
       "    </tr>\n",
       "  </tbody>\n",
       "</table>\n",
       "</div>"
      ],
      "text/plain": [
       "                                      jobdescription  \\\n",
       "0  Looking for Selenium engineers...must have sol...   \n",
       "1  The University of Chicago has a rapidly growin...   \n",
       "2  GalaxE.SolutionsEvery day, our solutions affec...   \n",
       "3  Java DeveloperFull-time/direct-hireBolingbrook...   \n",
       "4  Midtown based high tech firm has an immediate ...   \n",
       "\n",
       "                                              skills  \n",
       "0  Hire, ON, SAP, WINDOWS, Groovy, must, SERVER, ...  \n",
       "1  linux/unix, network monitoring, incident respo...  \n",
       "2  Enterprise Solutions Architecture, business in...  \n",
       "3  ON, must, Benefits, SERVER, BENEFITS, Contact,...  \n",
       "4  Configuration Management, Developer, Linux, Ma...  "
      ]
     },
     "execution_count": 163,
     "metadata": {},
     "output_type": "execute_result"
    }
   ],
   "source": [
    "data_cleaned[['jobdescription', 'skills']].head()"
   ]
  },
  {
   "cell_type": "markdown",
   "id": "bb551789",
   "metadata": {},
   "source": [
    "### Handling Categorial Variables City, State"
   ]
  },
  {
   "cell_type": "code",
   "execution_count": 164,
   "id": "ac9e96fe",
   "metadata": {},
   "outputs": [
    {
     "data": {
      "text/html": [
       "<div>\n",
       "<style scoped>\n",
       "    .dataframe tbody tr th:only-of-type {\n",
       "        vertical-align: middle;\n",
       "    }\n",
       "\n",
       "    .dataframe tbody tr th {\n",
       "        vertical-align: top;\n",
       "    }\n",
       "\n",
       "    .dataframe thead th {\n",
       "        text-align: right;\n",
       "    }\n",
       "</style>\n",
       "<table border=\"1\" class=\"dataframe\">\n",
       "  <thead>\n",
       "    <tr style=\"text-align: right;\">\n",
       "      <th></th>\n",
       "      <th>joblocation_address</th>\n",
       "      <th>city</th>\n",
       "      <th>state</th>\n",
       "    </tr>\n",
       "  </thead>\n",
       "  <tbody>\n",
       "    <tr>\n",
       "      <th>0</th>\n",
       "      <td>Atlanta, GA</td>\n",
       "      <td>Atlanta</td>\n",
       "      <td>GA</td>\n",
       "    </tr>\n",
       "    <tr>\n",
       "      <th>1</th>\n",
       "      <td>Chicago, IL</td>\n",
       "      <td>Chicago</td>\n",
       "      <td>IL</td>\n",
       "    </tr>\n",
       "    <tr>\n",
       "      <th>2</th>\n",
       "      <td>Schaumburg, IL</td>\n",
       "      <td>Schaumburg</td>\n",
       "      <td>IL</td>\n",
       "    </tr>\n",
       "    <tr>\n",
       "      <th>3</th>\n",
       "      <td>Bolingbrook, IL</td>\n",
       "      <td>Bolingbrook</td>\n",
       "      <td>IL</td>\n",
       "    </tr>\n",
       "    <tr>\n",
       "      <th>4</th>\n",
       "      <td>Atlanta, GA</td>\n",
       "      <td>Atlanta</td>\n",
       "      <td>GA</td>\n",
       "    </tr>\n",
       "  </tbody>\n",
       "</table>\n",
       "</div>"
      ],
      "text/plain": [
       "  joblocation_address         city state\n",
       "0         Atlanta, GA      Atlanta    GA\n",
       "1         Chicago, IL      Chicago    IL\n",
       "2      Schaumburg, IL   Schaumburg    IL\n",
       "3     Bolingbrook, IL  Bolingbrook    IL\n",
       "4         Atlanta, GA      Atlanta    GA"
      ]
     },
     "execution_count": 164,
     "metadata": {},
     "output_type": "execute_result"
    }
   ],
   "source": [
    "#Splitting the address by delimeter and storing them in separate field as city, state\n",
    "if data_cleaned['joblocation_address'].str.contains(',').any():\n",
    "    split_address = data_cleaned['joblocation_address'].str.split(',', n=1, expand=True)\n",
    "    data_cleaned['city'] = split_address[0].str.strip() \n",
    "    data_cleaned['state'] = split_address[1].str.strip() \n",
    "\n",
    "data_cleaned[['joblocation_address', 'city', 'state']].head()"
   ]
  },
  {
   "cell_type": "code",
   "execution_count": 165,
   "id": "0fa57afc",
   "metadata": {},
   "outputs": [],
   "source": [
    "# Handling where only either city or state present \n",
    "count = 0\n",
    "if not data_cleaned['joblocation_address'].str.contains(',').any():\n",
    "    count = count + 1\n",
    "    data_cleaned['city'] = None  # Set city to None\n",
    "    data_cleaned['state'] = None  # Set state to None"
   ]
  },
  {
   "cell_type": "code",
   "execution_count": 166,
   "id": "01885724",
   "metadata": {},
   "outputs": [],
   "source": [
    "no_comma_mask = ~data_cleaned['joblocation_address'].str.contains(',')\n",
    "\n",
    "data_cleaned.loc[no_comma_mask, 'city'] = None\n",
    "data_cleaned.loc[no_comma_mask, 'state'] = None\n"
   ]
  },
  {
   "cell_type": "code",
   "execution_count": 167,
   "id": "87e0f7f7",
   "metadata": {},
   "outputs": [],
   "source": [
    "no_comma_mask = ~data_cleaned['joblocation_address'].str.contains(',')\n",
    "\n",
    "data_cleaned.loc[no_comma_mask, 'city'] = None\n",
    "data_cleaned.loc[no_comma_mask, 'state'] = None\n",
    "\n",
    "\n",
    "for index in data_cleaned[no_comma_mask].index:\n",
    "    address = data_cleaned.at[index, 'joblocation_address'].strip() \n",
    "    \n",
    "    if len(address) == 2:\n",
    "        data_cleaned.at[index, 'state'] = address  \n",
    "    elif len(address) > 2:\n",
    "        data_cleaned.at[index, 'city'] = address  "
   ]
  },
  {
   "cell_type": "code",
   "execution_count": 168,
   "id": "f4229ac2",
   "metadata": {},
   "outputs": [
    {
     "data": {
      "text/html": [
       "<div>\n",
       "<style scoped>\n",
       "    .dataframe tbody tr th:only-of-type {\n",
       "        vertical-align: middle;\n",
       "    }\n",
       "\n",
       "    .dataframe tbody tr th {\n",
       "        vertical-align: top;\n",
       "    }\n",
       "\n",
       "    .dataframe thead th {\n",
       "        text-align: right;\n",
       "    }\n",
       "</style>\n",
       "<table border=\"1\" class=\"dataframe\">\n",
       "  <thead>\n",
       "    <tr style=\"text-align: right;\">\n",
       "      <th></th>\n",
       "      <th>company</th>\n",
       "      <th>employmenttype_jobstatus</th>\n",
       "      <th>jobdescription</th>\n",
       "      <th>joblocation_address</th>\n",
       "      <th>jobtitle</th>\n",
       "      <th>shift</th>\n",
       "      <th>skills</th>\n",
       "      <th>city</th>\n",
       "      <th>state</th>\n",
       "    </tr>\n",
       "  </thead>\n",
       "  <tbody>\n",
       "    <tr>\n",
       "      <th>0</th>\n",
       "      <td>Digital Intelligence Systems, LLC</td>\n",
       "      <td>C2H Corp-To-Corp, C2H Independent, C2H W2, 3 M...</td>\n",
       "      <td>Looking for Selenium engineers...must have sol...</td>\n",
       "      <td>Atlanta, GA</td>\n",
       "      <td>AUTOMATION TEST ENGINEER</td>\n",
       "      <td>Telecommuting not available|Travel not required</td>\n",
       "      <td>Hire, ON, SAP, WINDOWS, Groovy, must, SERVER, ...</td>\n",
       "      <td>Atlanta</td>\n",
       "      <td>GA</td>\n",
       "    </tr>\n",
       "    <tr>\n",
       "      <th>1</th>\n",
       "      <td>University of Chicago/IT Services</td>\n",
       "      <td>Full Time</td>\n",
       "      <td>The University of Chicago has a rapidly growin...</td>\n",
       "      <td>Chicago, IL</td>\n",
       "      <td>Information Security Engineer</td>\n",
       "      <td>Telecommuting not available|Travel not required</td>\n",
       "      <td>linux/unix, network monitoring, incident respo...</td>\n",
       "      <td>Chicago</td>\n",
       "      <td>IL</td>\n",
       "    </tr>\n",
       "    <tr>\n",
       "      <th>2</th>\n",
       "      <td>Galaxy Systems, Inc.</td>\n",
       "      <td>Full Time</td>\n",
       "      <td>GalaxE.SolutionsEvery day, our solutions affec...</td>\n",
       "      <td>Schaumburg, IL</td>\n",
       "      <td>Business Solutions Architect</td>\n",
       "      <td>Telecommuting not available|Travel not required</td>\n",
       "      <td>Enterprise Solutions Architecture, business in...</td>\n",
       "      <td>Schaumburg</td>\n",
       "      <td>IL</td>\n",
       "    </tr>\n",
       "    <tr>\n",
       "      <th>3</th>\n",
       "      <td>TransTech LLC</td>\n",
       "      <td>Full Time</td>\n",
       "      <td>Java DeveloperFull-time/direct-hireBolingbrook...</td>\n",
       "      <td>Bolingbrook, IL</td>\n",
       "      <td>Java Developer (mid level)- FT- GREAT culture,...</td>\n",
       "      <td>Telecommuting not available|Travel not required</td>\n",
       "      <td>ON, must, Benefits, SERVER, BENEFITS, Contact,...</td>\n",
       "      <td>Bolingbrook</td>\n",
       "      <td>IL</td>\n",
       "    </tr>\n",
       "    <tr>\n",
       "      <th>4</th>\n",
       "      <td>Matrix Resources</td>\n",
       "      <td>Full Time</td>\n",
       "      <td>Midtown based high tech firm has an immediate ...</td>\n",
       "      <td>Atlanta, GA</td>\n",
       "      <td>DevOps Engineer</td>\n",
       "      <td>Telecommuting not available|Travel not required</td>\n",
       "      <td>Configuration Management, Developer, Linux, Ma...</td>\n",
       "      <td>Atlanta</td>\n",
       "      <td>GA</td>\n",
       "    </tr>\n",
       "  </tbody>\n",
       "</table>\n",
       "</div>"
      ],
      "text/plain": [
       "                             company  \\\n",
       "0  Digital Intelligence Systems, LLC   \n",
       "1  University of Chicago/IT Services   \n",
       "2               Galaxy Systems, Inc.   \n",
       "3                      TransTech LLC   \n",
       "4                   Matrix Resources   \n",
       "\n",
       "                            employmenttype_jobstatus  \\\n",
       "0  C2H Corp-To-Corp, C2H Independent, C2H W2, 3 M...   \n",
       "1                                          Full Time   \n",
       "2                                          Full Time   \n",
       "3                                          Full Time   \n",
       "4                                          Full Time   \n",
       "\n",
       "                                      jobdescription joblocation_address  \\\n",
       "0  Looking for Selenium engineers...must have sol...         Atlanta, GA   \n",
       "1  The University of Chicago has a rapidly growin...         Chicago, IL   \n",
       "2  GalaxE.SolutionsEvery day, our solutions affec...      Schaumburg, IL   \n",
       "3  Java DeveloperFull-time/direct-hireBolingbrook...     Bolingbrook, IL   \n",
       "4  Midtown based high tech firm has an immediate ...         Atlanta, GA   \n",
       "\n",
       "                                            jobtitle  \\\n",
       "0                           AUTOMATION TEST ENGINEER   \n",
       "1                      Information Security Engineer   \n",
       "2                       Business Solutions Architect   \n",
       "3  Java Developer (mid level)- FT- GREAT culture,...   \n",
       "4                                    DevOps Engineer   \n",
       "\n",
       "                                             shift  \\\n",
       "0  Telecommuting not available|Travel not required   \n",
       "1  Telecommuting not available|Travel not required   \n",
       "2  Telecommuting not available|Travel not required   \n",
       "3  Telecommuting not available|Travel not required   \n",
       "4  Telecommuting not available|Travel not required   \n",
       "\n",
       "                                              skills         city state  \n",
       "0  Hire, ON, SAP, WINDOWS, Groovy, must, SERVER, ...      Atlanta    GA  \n",
       "1  linux/unix, network monitoring, incident respo...      Chicago    IL  \n",
       "2  Enterprise Solutions Architecture, business in...   Schaumburg    IL  \n",
       "3  ON, must, Benefits, SERVER, BENEFITS, Contact,...  Bolingbrook    IL  \n",
       "4  Configuration Management, Developer, Linux, Ma...      Atlanta    GA  "
      ]
     },
     "execution_count": 168,
     "metadata": {},
     "output_type": "execute_result"
    }
   ],
   "source": [
    "data_cleaned.head()"
   ]
  },
  {
   "cell_type": "code",
   "execution_count": 169,
   "id": "67547dbe",
   "metadata": {},
   "outputs": [],
   "source": [
    "data_cleaned = data_cleaned.drop(columns=['joblocation_address'])\n",
    "\n",
    "cols = ['company', 'employmenttype_jobstatus', 'jobdescription', 'city', 'state', 'jobtitle', 'shift', 'skills']\n",
    "data_cleaned = data_cleaned[cols]"
   ]
  },
  {
   "cell_type": "code",
   "execution_count": 170,
   "id": "5f0f4b3f",
   "metadata": {},
   "outputs": [
    {
     "name": "stdout",
     "output_type": "stream",
     "text": [
      "States where City is missing:\n",
      "['Co' 'Ca' 'Va' 'Dc' 'De' 'Md' 'Ny']\n"
     ]
    }
   ],
   "source": [
    "# Filtering rows where 'city' is missing\n",
    "missing_city_rows = data_cleaned[data_cleaned['city'].isna()]\n",
    "\n",
    "unique_states = missing_city_rows['state'].unique()\n",
    "\n",
    "print(\"States where City is missing:\")\n",
    "print(unique_states)"
   ]
  },
  {
   "cell_type": "code",
   "execution_count": 171,
   "id": "283e18fc",
   "metadata": {},
   "outputs": [],
   "source": [
    "states_with_missing_city = ['Co', 'Ca', 'Va', 'Dc', 'De', 'Md', 'Ny']\n",
    "\n",
    "state_city_mapping = {\n",
    "    'Co': 'Denver',\n",
    "    'Ca': 'Los Angeles',\n",
    "    'Va': 'Richmond',\n",
    "    'Dc': 'Washington',\n",
    "    'De': 'Dover',\n",
    "    'Md': 'Baltimore',\n",
    "    'Ny': 'New York'\n",
    "}\n",
    "\n",
    "def fill_missing_city(row):\n",
    "    if row['city'] is None and row['state'] in state_city_mapping:\n",
    "        return state_city_mapping[row['state']]\n",
    "    return row['city']\n",
    "\n",
    "data_cleaned['city'] = data_cleaned.apply(fill_missing_city, axis=1)"
   ]
  },
  {
   "cell_type": "code",
   "execution_count": 172,
   "id": "8e1733d9",
   "metadata": {},
   "outputs": [
    {
     "name": "stdout",
     "output_type": "stream",
     "text": [
      "['Sacramento', 'Santa Clara', 'United States', 'Mexico City', 'Any City', 'Bangkok', 'Hyderabad', 'Bangalore', 'Brentwood', 'Peterborough', 'Sunnyvale', 'Phila', 'Toronto', 'Cherry Hill', 'Delhi', 'San Francisco', 'Beijing', 'Reading', 'Pune', 'San Isidro', 'St Petersburg', 'Mumbai', 'Konstanz', 'Chandigarh', 'Central', 'Guantanamo Bay', 'Guantanamo']\n"
     ]
    }
   ],
   "source": [
    "# Identify unique city names where state is missing\n",
    "unique_missing_state_cities = data_cleaned[data_cleaned['state'].isna()]['city'].unique()\n",
    "\n",
    "unique_missing_state_cities_list = unique_missing_state_cities.tolist()\n",
    "\n",
    "print(unique_missing_state_cities_list)"
   ]
  },
  {
   "cell_type": "code",
   "execution_count": 173,
   "id": "04df1b3e",
   "metadata": {},
   "outputs": [],
   "source": [
    "city_state_mapping = {\n",
    "    \n",
    "    'Sacramento': 'CA',\n",
    "    'Santa Clara': 'CA',\n",
    "    'United States': 'US',\n",
    "    'Mexico City': 'MX',\n",
    "    'Any City': \"City\",  \n",
    "    'Bangkok': 'TH',\n",
    "    'Hyderabad': 'IN',\n",
    "    'Bangalore': 'IN',\n",
    "    'Brentwood': 'CA',\n",
    "    'Peterborough': 'ON',  \n",
    "    'Sunnyvale': 'CA',\n",
    "    'Phila': 'PA',\n",
    "    'Toronto': 'ON', \n",
    "    'Cherry Hill': 'NJ',\n",
    "    'Delhi': 'DL',  \n",
    "    'San Francisco': 'CA',\n",
    "    'Beijing': 'BJ',  \n",
    "    'Reading': 'PA',\n",
    "    'Pune': 'IN',\n",
    "    'San Isidro': 'CA',\n",
    "    'St Petersburg': 'FL',\n",
    "    'Mumbai': 'MH',  \n",
    "    'Konstanz': 'BW',  \n",
    "    'Chandigarh': 'CH',  \n",
    "    'Central': 'City',  \n",
    "    'Guantanamo Bay': 'CU',  \n",
    "    'Guantanamo': 'CU'  \n",
    "}\n",
    "\n",
    "# Function to fill missing states based on city\n",
    "def fill_missing_state(row):\n",
    "    if pd.isna(row['state']) and row['city'] in city_state_mapping:\n",
    "        return city_state_mapping[row['city']]\n",
    "    return row['state']\n",
    "\n",
    "# Apply the function to update the DataFrame\n",
    "data_cleaned['state'] = data_cleaned.apply(fill_missing_state, axis=1)"
   ]
  },
  {
   "cell_type": "code",
   "execution_count": 174,
   "id": "95d1fc3e",
   "metadata": {},
   "outputs": [
    {
     "data": {
      "text/plain": [
       "company                     0\n",
       "employmenttype_jobstatus    0\n",
       "jobdescription              0\n",
       "city                        0\n",
       "state                       0\n",
       "jobtitle                    0\n",
       "shift                       0\n",
       "skills                      0\n",
       "dtype: int64"
      ]
     },
     "execution_count": 174,
     "metadata": {},
     "output_type": "execute_result"
    }
   ],
   "source": [
    "data_cleaned.isnull().sum()"
   ]
  },
  {
   "cell_type": "markdown",
   "id": "79434703",
   "metadata": {},
   "source": [
    "## Exploratory Data Analysis"
   ]
  },
  {
   "cell_type": "markdown",
   "id": "6841c9c9",
   "metadata": {},
   "source": [
    "### States by Job Postings"
   ]
  },
  {
   "cell_type": "code",
   "execution_count": 175,
   "id": "cee1715f",
   "metadata": {},
   "outputs": [
    {
     "name": "stdout",
     "output_type": "stream",
     "text": [
      "state\n",
      "CA    4623\n",
      "NY    2213\n",
      "GA    1925\n",
      "TX    1924\n",
      "NJ    1820\n",
      "Name: count, dtype: int64\n"
     ]
    }
   ],
   "source": [
    "state_job_counts = data_cleaned['state'].value_counts()\n",
    "\n",
    "top_5_states = state_job_counts.head(5)\n",
    "\n",
    "print(top_5_states)"
   ]
  },
  {
   "cell_type": "code",
   "execution_count": 176,
   "id": "1dafb45e",
   "metadata": {},
   "outputs": [
    {
     "data": {
      "image/png": "[encoded data removed]",
      "text/plain": [
       "<Figure size 1000x600 with 1 Axes>"
      ]
     },
     "metadata": {},
     "output_type": "display_data"
    }
   ],
   "source": [
    "top_states = data_cleaned['state'].value_counts().nlargest(5)\n",
    "\n",
    "colors = ['skyblue', 'lightgreen', 'salmon', 'lightcoral', 'gold']\n",
    "plt.figure(figsize=(10,6))\n",
    "bars = plt.bar(top_states.index, top_states.values, color=colors)\n",
    "\n",
    "plt.xlabel('States', fontsize=12)\n",
    "plt.ylabel('Number of Job Postings', fontsize=12)\n",
    "plt.title('Top 5 States by Number of Job Postings', fontsize=12)\n",
    "\n",
    "for bar in bars:\n",
    "    height = bar.get_height()\n",
    "    plt.text(bar.get_x() + bar.get_width() / 2, height, f'{int(height)}', \n",
    "             ha='center', va='bottom', fontsize=12, fontweight='bold')\n",
    "\n",
    "plt.yticks([])\n",
    "\n",
    "plt.show()"
   ]
  },
  {
   "cell_type": "markdown",
   "id": "82508f02",
   "metadata": {},
   "source": [
    "### Top Cities by Job Counts "
   ]
  },
  {
   "cell_type": "code",
   "execution_count": 177,
   "id": "7cb18a26",
   "metadata": {},
   "outputs": [
    {
     "name": "stdout",
     "output_type": "stream",
     "text": [
      "city\n",
      "New York         1373\n",
      "Atlanta          1245\n",
      "San Francisco     889\n",
      "Seattle           661\n",
      "Boston            608\n",
      "Houston           536\n",
      "San Jose          452\n",
      "Name: count, dtype: int64\n"
     ]
    }
   ],
   "source": [
    "city_job_counts = data_cleaned['city'].value_counts()\n",
    "\n",
    "top_7_cities = city_job_counts.head(7)\n",
    "\n",
    "print(top_7_cities)"
   ]
  },
  {
   "cell_type": "code",
   "execution_count": 178,
   "id": "5f8fbffa",
   "metadata": {},
   "outputs": [
    {
     "data": {
      "image/png": "[encoded data removed]",
      "text/plain": [
       "<Figure size 1000x600 with 1 Axes>"
      ]
     },
     "metadata": {},
     "output_type": "display_data"
    }
   ],
   "source": [
    "top_cities = data_cleaned['city'].value_counts().nlargest(7)\n",
    "\n",
    "colors = ['skyblue', 'lightgreen', 'salmon', 'lightcoral', 'gold', 'orange', 'peru']\n",
    "plt.figure(figsize=(10,6))\n",
    "bars = plt.bar(top_cities.index, top_cities.values, color=colors)\n",
    "\n",
    "plt.xlabel('Cities', fontsize=12)\n",
    "plt.ylabel('Number of Job Postings', fontsize=12)\n",
    "plt.title('Top 7 City by Number of Job Postings', fontsize=12)\n",
    "\n",
    "for bar in bars:\n",
    "    height = bar.get_height()\n",
    "    plt.text(bar.get_x() + bar.get_width() / 2, height, f'{int(height)}', \n",
    "             ha='center', va='bottom', fontsize=12, fontweight='bold')\n",
    "\n",
    "plt.yticks([])\n",
    "\n",
    "plt.show()"
   ]
  },
  {
   "cell_type": "markdown",
   "id": "f1e0873d",
   "metadata": {},
   "source": [
    "### Relation between City & Job Title"
   ]
  },
  {
   "cell_type": "code",
   "execution_count": 179,
   "id": "0a6aba90",
   "metadata": {},
   "outputs": [
    {
     "name": "stdout",
     "output_type": "stream",
     "text": [
      "    city state                      jobtitle  count\n",
      " Atlanta    GA                Java Developer     13\n",
      "New York    NY Software Development Engineer     11\n",
      " Atlanta    GA         Senior Java Developer     10\n",
      "New York    NY               Project Manager     10\n",
      " Atlanta    GA              Business Analyst      9\n",
      "New York    NY              Business Analyst      9\n",
      "New York    NY                Java Developer      9\n",
      " Seattle    WA Software Development Engineer      8\n",
      " Atlanta    GA            Backbase Developer      8\n",
      "New York    NY             Software Engineer      8\n"
     ]
    },
    {
     "data": {
      "image/png": "[encoded data removed]",
      "text/plain": [
       "<Figure size 1200x1000 with 1 Axes>"
      ]
     },
     "metadata": {},
     "output_type": "display_data"
    }
   ],
   "source": [
    "# Group by city, state, and job title to find the frequency of each combination\n",
    "grouped_data = data_cleaned.groupby(['city', 'state', 'jobtitle']).size().reset_index(name='count')\n",
    "\n",
    "top_combinations = grouped_data.sort_values(by='count', ascending=False).head(10)\n",
    "\n",
    "print(top_combinations.to_string(index=False))\n",
    "\n",
    "plt.figure(figsize=(12, 10))\n",
    "sns.barplot(x='jobtitle', y='count', hue='city', data=top_combinations, dodge=False)\n",
    "\n",
    "plt.xlabel('Job Title')\n",
    "plt.ylabel('Frequency')\n",
    "plt.title('Top 20 Job Title Combinations by City and State')\n",
    "\n",
    "plt.xticks(rotation=45)\n",
    "\n",
    "plt.tight_layout()\n",
    "plt.show()"
   ]
  },
  {
   "cell_type": "markdown",
   "id": "88b08197",
   "metadata": {},
   "source": [
    "### Full Time Employment vs Part Time Employment"
   ]
  },
  {
   "cell_type": "code",
   "execution_count": 180,
   "id": "b6ee200d",
   "metadata": {},
   "outputs": [
    {
     "name": "stdout",
     "output_type": "stream",
     "text": [
      "Percentage of Full Time jobs: 57.75%\n",
      "Percentage of Non-Full Time jobs: 42.25%\n"
     ]
    }
   ],
   "source": [
    "# Counting the total number of jobs\n",
    "total_jobs = len(data_cleaned)\n",
    "\n",
    "full_time_jobs = data_cleaned['employmenttype_jobstatus'].str.contains('Full Time', case=False, na=False).sum()\n",
    "\n",
    "non_full_time_jobs = total_jobs - full_time_jobs\n",
    "\n",
    "full_time_percentage = (full_time_jobs / total_jobs) * 100\n",
    "non_full_time_percentage = (non_full_time_jobs / total_jobs) * 100\n",
    "\n",
    "print(f\"Percentage of Full Time jobs: {full_time_percentage:.2f}%\")\n",
    "print(f\"Percentage of Non-Full Time jobs: {non_full_time_percentage:.2f}%\")"
   ]
  },
  {
   "cell_type": "code",
   "execution_count": 181,
   "id": "b4be83f7",
   "metadata": {},
   "outputs": [
    {
     "data": {
      "image/png": "[encoded data removed]",
      "text/plain": [
       "<Figure size 1000x600 with 1 Axes>"
      ]
     },
     "metadata": {},
     "output_type": "display_data"
    }
   ],
   "source": [
    "job_types = ['Full Time', 'Non-Full Time']\n",
    "percentages = [full_time_percentage, non_full_time_percentage]\n",
    "\n",
    "colors = ['skyblue', 'salmon']\n",
    "\n",
    "plt.figure(figsize=(10,6))\n",
    "bars = plt.bar(job_types, percentages, color=colors)\n",
    "\n",
    "plt.xlabel('Job Type', fontsize=12)\n",
    "plt.ylabel('Percentage', fontsize=12)\n",
    "plt.title('Percentage of Full Time vs Non-Full Time Jobs', fontsize=12)\n",
    "\n",
    "for bar in bars:\n",
    "    height = bar.get_height()\n",
    "    plt.text(bar.get_x() + bar.get_width() / 2, height, f'{int(height)}%', \n",
    "             ha='center', va='bottom', fontsize=12, fontweight='bold')\n",
    "\n",
    "plt.yticks([])\n",
    "\n",
    "plt.show()"
   ]
  },
  {
   "cell_type": "markdown",
   "id": "953db46f",
   "metadata": {},
   "source": [
    "### Top SKills in the Market"
   ]
  },
  {
   "cell_type": "code",
   "execution_count": 182,
   "id": "5a3ed50b",
   "metadata": {},
   "outputs": [],
   "source": [
    "# Finding the top skills in the present market\n",
    "skills_copy = data_cleaned['skills'].copy()\n",
    "\n",
    "skills_copy = skills_copy.str.split(',')\n",
    "\n",
    "all_skills = skills_copy.explode().str.strip()\n",
    "\n",
    "all_skills = all_skills[all_skills != '']\n",
    "\n",
    "skill_counts = Counter(all_skills)\n",
    "\n",
    "skills_df = pd.DataFrame(skill_counts.items(), columns=['Skill', 'Count'])\n",
    "\n",
    "n = 10 \n",
    "\n",
    "top_skills = skills_df.nlargest(n, 'Count')"
   ]
  },
  {
   "cell_type": "code",
   "execution_count": 187,
   "id": "9eda11bd",
   "metadata": {},
   "outputs": [
    {
     "data": {
      "image/png": "[encoded data removed]",
      "text/plain": [
       "<Figure size 1000x600 with 1 Axes>"
      ]
     },
     "metadata": {},
     "output_type": "display_data"
    }
   ],
   "source": [
    "plt.figure(figsize=(10, 6))\n",
    "\n",
    "sns.barplot(x='Count', y='Skill', data=top_skills, palette='Set2')\n",
    "\n",
    "plt.xlabel('Requirement')\n",
    "plt.ylabel('Skill')\n",
    "plt.title('On Demand Skills')\n",
    "\n",
    "plt.tight_layout()\n",
    "plt.show()"
   ]
  },
  {
   "cell_type": "markdown",
   "id": "47a5a33e",
   "metadata": {},
   "source": [
    "### Job Roles On Demand"
   ]
  },
  {
   "cell_type": "code",
   "execution_count": 189,
   "id": "96ec532a",
   "metadata": {},
   "outputs": [],
   "source": [
    "jobtitle_counts = data_cleaned['jobtitle'].value_counts()\n",
    "\n",
    "jobtitle_counts_df = jobtitle_counts.reset_index()\n",
    "jobtitle_counts_df.columns = ['Job Title', 'Count']\n",
    "\n",
    "most_common_jobtitles = jobtitle_counts_df.nlargest(10, 'Count')"
   ]
  },
  {
   "cell_type": "code",
   "execution_count": 192,
   "id": "f8721d7e",
   "metadata": {},
   "outputs": [
    {
     "data": {
      "image/png": "[encoded data removed]",
      "text/plain": [
       "<Figure size 1000x600 with 1 Axes>"
      ]
     },
     "metadata": {},
     "output_type": "display_data"
    }
   ],
   "source": [
    "most_common_jobtitles = most_common_jobtitles.reset_index() \n",
    "\n",
    "plt.figure(figsize=(10, 6))\n",
    "sns.barplot(x='Count', y='Job Title', data=most_common_jobtitles, palette='Set2')\n",
    "\n",
    "plt.title('Job Roles on Deamnd')\n",
    "plt.xlabel('Requirement')\n",
    "plt.ylabel('Job Title')\n",
    "\n",
    "plt.tight_layout()\n",
    "plt.show()"
   ]
  },
  {
   "cell_type": "markdown",
   "id": "3203ff8b",
   "metadata": {},
   "source": [
    "## Storing Data into a CSV File"
   ]
  },
  {
   "cell_type": "code",
   "execution_count": 184,
   "id": "811d25aa",
   "metadata": {},
   "outputs": [],
   "source": [
    "data_cleaned.to_csv('cleaned_skills_data.csv', index=False)"
   ]
  },
  {
   "cell_type": "code",
   "execution_count": 185,
   "id": "44789a1e",
   "metadata": {},
   "outputs": [
    {
     "data": {
      "text/html": [
       "<div>\n",
       "<style scoped>\n",
       "    .dataframe tbody tr th:only-of-type {\n",
       "        vertical-align: middle;\n",
       "    }\n",
       "\n",
       "    .dataframe tbody tr th {\n",
       "        vertical-align: top;\n",
       "    }\n",
       "\n",
       "    .dataframe thead th {\n",
       "        text-align: right;\n",
       "    }\n",
       "</style>\n",
       "<table border=\"1\" class=\"dataframe\">\n",
       "  <thead>\n",
       "    <tr style=\"text-align: right;\">\n",
       "      <th></th>\n",
       "      <th>company</th>\n",
       "      <th>employmenttype_jobstatus</th>\n",
       "      <th>jobdescription</th>\n",
       "      <th>city</th>\n",
       "      <th>state</th>\n",
       "      <th>jobtitle</th>\n",
       "      <th>shift</th>\n",
       "      <th>skills</th>\n",
       "    </tr>\n",
       "  </thead>\n",
       "  <tbody>\n",
       "    <tr>\n",
       "      <th>0</th>\n",
       "      <td>Digital Intelligence Systems, LLC</td>\n",
       "      <td>C2H Corp-To-Corp, C2H Independent, C2H W2, 3 M...</td>\n",
       "      <td>Looking for Selenium engineers...must have sol...</td>\n",
       "      <td>Atlanta</td>\n",
       "      <td>GA</td>\n",
       "      <td>AUTOMATION TEST ENGINEER</td>\n",
       "      <td>Telecommuting not available|Travel not required</td>\n",
       "      <td>Hire, ON, SAP, WINDOWS, Groovy, must, SERVER, ...</td>\n",
       "    </tr>\n",
       "    <tr>\n",
       "      <th>1</th>\n",
       "      <td>University of Chicago/IT Services</td>\n",
       "      <td>Full Time</td>\n",
       "      <td>The University of Chicago has a rapidly growin...</td>\n",
       "      <td>Chicago</td>\n",
       "      <td>IL</td>\n",
       "      <td>Information Security Engineer</td>\n",
       "      <td>Telecommuting not available|Travel not required</td>\n",
       "      <td>linux/unix, network monitoring, incident respo...</td>\n",
       "    </tr>\n",
       "    <tr>\n",
       "      <th>2</th>\n",
       "      <td>Galaxy Systems, Inc.</td>\n",
       "      <td>Full Time</td>\n",
       "      <td>GalaxE.SolutionsEvery day, our solutions affec...</td>\n",
       "      <td>Schaumburg</td>\n",
       "      <td>IL</td>\n",
       "      <td>Business Solutions Architect</td>\n",
       "      <td>Telecommuting not available|Travel not required</td>\n",
       "      <td>Enterprise Solutions Architecture, business in...</td>\n",
       "    </tr>\n",
       "    <tr>\n",
       "      <th>3</th>\n",
       "      <td>TransTech LLC</td>\n",
       "      <td>Full Time</td>\n",
       "      <td>Java DeveloperFull-time/direct-hireBolingbrook...</td>\n",
       "      <td>Bolingbrook</td>\n",
       "      <td>IL</td>\n",
       "      <td>Java Developer (mid level)- FT- GREAT culture,...</td>\n",
       "      <td>Telecommuting not available|Travel not required</td>\n",
       "      <td>ON, must, Benefits, SERVER, BENEFITS, Contact,...</td>\n",
       "    </tr>\n",
       "    <tr>\n",
       "      <th>4</th>\n",
       "      <td>Matrix Resources</td>\n",
       "      <td>Full Time</td>\n",
       "      <td>Midtown based high tech firm has an immediate ...</td>\n",
       "      <td>Atlanta</td>\n",
       "      <td>GA</td>\n",
       "      <td>DevOps Engineer</td>\n",
       "      <td>Telecommuting not available|Travel not required</td>\n",
       "      <td>Configuration Management, Developer, Linux, Ma...</td>\n",
       "    </tr>\n",
       "  </tbody>\n",
       "</table>\n",
       "</div>"
      ],
      "text/plain": [
       "                             company  \\\n",
       "0  Digital Intelligence Systems, LLC   \n",
       "1  University of Chicago/IT Services   \n",
       "2               Galaxy Systems, Inc.   \n",
       "3                      TransTech LLC   \n",
       "4                   Matrix Resources   \n",
       "\n",
       "                            employmenttype_jobstatus  \\\n",
       "0  C2H Corp-To-Corp, C2H Independent, C2H W2, 3 M...   \n",
       "1                                          Full Time   \n",
       "2                                          Full Time   \n",
       "3                                          Full Time   \n",
       "4                                          Full Time   \n",
       "\n",
       "                                      jobdescription         city state  \\\n",
       "0  Looking for Selenium engineers...must have sol...      Atlanta    GA   \n",
       "1  The University of Chicago has a rapidly growin...      Chicago    IL   \n",
       "2  GalaxE.SolutionsEvery day, our solutions affec...   Schaumburg    IL   \n",
       "3  Java DeveloperFull-time/direct-hireBolingbrook...  Bolingbrook    IL   \n",
       "4  Midtown based high tech firm has an immediate ...      Atlanta    GA   \n",
       "\n",
       "                                            jobtitle  \\\n",
       "0                           AUTOMATION TEST ENGINEER   \n",
       "1                      Information Security Engineer   \n",
       "2                       Business Solutions Architect   \n",
       "3  Java Developer (mid level)- FT- GREAT culture,...   \n",
       "4                                    DevOps Engineer   \n",
       "\n",
       "                                             shift  \\\n",
       "0  Telecommuting not available|Travel not required   \n",
       "1  Telecommuting not available|Travel not required   \n",
       "2  Telecommuting not available|Travel not required   \n",
       "3  Telecommuting not available|Travel not required   \n",
       "4  Telecommuting not available|Travel not required   \n",
       "\n",
       "                                              skills  \n",
       "0  Hire, ON, SAP, WINDOWS, Groovy, must, SERVER, ...  \n",
       "1  linux/unix, network monitoring, incident respo...  \n",
       "2  Enterprise Solutions Architecture, business in...  \n",
       "3  ON, must, Benefits, SERVER, BENEFITS, Contact,...  \n",
       "4  Configuration Management, Developer, Linux, Ma...  "
      ]
     },
     "execution_count": 185,
     "metadata": {},
     "output_type": "execute_result"
    }
   ],
   "source": [
    "data_cleaned.head()"
   ]
  },
  {
   "cell_type": "code",
   "execution_count": null,
   "id": "1f8ecfc6",
   "metadata": {},
   "outputs": [],
   "source": []
  }
 ],
 "metadata": {
  "kernelspec": {
   "display_name": "Python 3 (ipykernel)",
   "language": "python",
   "name": "python3"
  },
  "language_info": {
   "codemirror_mode": {
    "name": "ipython",
    "version": 3
   },
   "file_extension": ".py",
   "mimetype": "text/x-python",
   "name": "python",
   "nbconvert_exporter": "python",
   "pygments_lexer": "ipython3",
   "version": "3.11.5"
  }
 },
 "nbformat": 4,
 "nbformat_minor": 5
}
